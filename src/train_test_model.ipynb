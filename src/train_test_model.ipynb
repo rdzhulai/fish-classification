{
 "cells": [
  {
   "cell_type": "markdown",
   "id": "83f29760",
   "metadata": {},
   "source": [
    "# Imports"
   ]
  },
  {
   "cell_type": "code",
   "execution_count": 2,
   "id": "efdc9dc0",
   "metadata": {},
   "outputs": [],
   "source": [
    "import torch\n",
    "import torch.nn as nn\n",
    "from torch.optim import Adam\n",
    "from torch.utils.data import DataLoader, SubsetRandomSampler\n",
    "from torchvision.datasets import DatasetFolder\n",
    "from torchvision.io import read_image\n",
    "import torchvision.transforms as T\n",
    "import numpy as np\n",
    "from sklearn.model_selection import train_test_split\n",
    "from sklearn.metrics import accuracy_score, precision_score, recall_score, f1_score, confusion_matrix, ConfusionMatrixDisplay\n",
    "from tqdm import tqdm\n",
    "import matplotlib.pyplot as plt"
   ]
  },
  {
   "cell_type": "markdown",
   "id": "a6033aa5",
   "metadata": {},
   "source": [
    "# Preprocess dataset"
   ]
  },
  {
   "cell_type": "code",
   "execution_count": 3,
   "id": "176daf9a",
   "metadata": {},
   "outputs": [],
   "source": [
    "# Define transformations\n",
    "WIDTH, HEIGHT = 2832, 2128\n",
    "transform = T.Compose([\n",
    "    T.Resize((WIDTH//4, HEIGHT//4), antialias=True),\n",
    "])\n",
    "\n",
    "# Loading dataset\n",
    "dataset = DatasetFolder(\"../data\", loader=read_image, extensions=('jpg', 'png'), transform=transform)\n",
    "\n",
    "# Getting dataset class names and their number\n",
    "class_names = dataset.classes\n",
    "num_classes = len(class_names)\n",
    "\n",
    "# Getting labels and indices\n",
    "labels = np.array(dataset.targets)\n",
    "dataset_size = len(dataset)\n",
    "indices = np.arange(dataset_size)\n",
    "\n",
    "# Setting seed before splitting\n",
    "np.random.seed(123)\n",
    "\n",
    "# Splitting indices into train and test, applying stratification\n",
    "train_indices, test_indices, train_labels, test_labels = train_test_split(indices, labels, test_size=0.2, stratify=labels)\n",
    "\n",
    "# Splitting indices into train and validation, applying stratification\n",
    "train_indices, val_indices, train_labels, val_labels = train_test_split(train_indices, train_labels, test_size=0.2, stratify=train_labels)\n",
    "\n",
    "# Define data loaders\n",
    "torch.manual_seed(123)\n",
    "train_dataloader = DataLoader(dataset, sampler=SubsetRandomSampler(train_indices), batch_size=5)\n",
    "test_dataloader = DataLoader(dataset, sampler=SubsetRandomSampler(test_indices), batch_size=5)\n",
    "val_dataloader = DataLoader(dataset, sampler=SubsetRandomSampler(val_indices), batch_size=5)"
   ]
  },
  {
   "cell_type": "markdown",
   "id": "2a3f3d6c",
   "metadata": {},
   "source": [
    "# Define model"
   ]
  },
  {
   "cell_type": "code",
   "execution_count": 4,
   "id": "e6fb2a54",
   "metadata": {},
   "outputs": [],
   "source": [
    "class ResBlock(nn.Module):\n",
    "    def __init__(self, in_channels, out_channels, stride=1):\n",
    "        super(ResBlock, self).__init__()\n",
    "        self.conv1 = nn.Conv2d(in_channels, out_channels, kernel_size=3, stride=stride, padding=1)\n",
    "        self.bn1 = nn.BatchNorm2d(out_channels)\n",
    "        self.relu = nn.ReLU(inplace=True)\n",
    "        self.conv2 = nn.Conv2d(out_channels, out_channels, kernel_size=3, stride=1, padding=1)\n",
    "        self.bn2 = nn.BatchNorm2d(out_channels)\n",
    "\n",
    "        self.shortcut = nn.Sequential()\n",
    "        if stride != 1 or in_channels != out_channels:\n",
    "            self.shortcut = nn.Sequential(\n",
    "                nn.Conv2d(in_channels, out_channels, kernel_size=1, stride=stride),\n",
    "                nn.BatchNorm2d(out_channels)\n",
    "            )\n",
    "\n",
    "    def forward(self, x):\n",
    "        out = self.conv1(x)\n",
    "        out = self.bn1(out)\n",
    "        out = self.relu(out)\n",
    "        out = self.conv2(out)\n",
    "        out = self.bn2(out)\n",
    "        out += self.shortcut(x)\n",
    "        out = self.relu(out)\n",
    "        return out\n",
    "\n",
    "class CustomModel(nn.Module):\n",
    "    def __init__(self, input_shape, num_classes):\n",
    "        super(CustomModel, self).__init__()\n",
    "\n",
    "        # Define convolutional layers with ResBlocks\n",
    "        self.conv_block = nn.Sequential(\n",
    "            ResBlock(input_shape[1], 64),\n",
    "            nn.MaxPool2d(kernel_size=2, stride=2),\n",
    "            \n",
    "            ResBlock(64, 128),\n",
    "            nn.MaxPool2d(kernel_size=2, stride=2),\n",
    "            \n",
    "            ResBlock(128, 256),\n",
    "            nn.MaxPool2d(kernel_size=2, stride=2),\n",
    "            \n",
    "            ResBlock(256, 512),\n",
    "            nn.MaxPool2d(kernel_size=2, stride=2),\n",
    "        )\n",
    "        \n",
    "        # Determine input features for the fully connected layer\n",
    "        with torch.no_grad():\n",
    "            input_sample = torch.zeros(input_shape)\n",
    "            conv_output = self.conv_block(input_sample)\n",
    "            in_features = conv_output.view(conv_output.size(0), -1).size(1)\n",
    "\n",
    "        # Define a simplified fully connected block\n",
    "        self.fc_block = nn.Sequential(\n",
    "            nn.Linear(in_features, 512),\n",
    "            nn.ReLU(),\n",
    "            nn.BatchNorm1d(512),\n",
    "            nn.Dropout(0.5),\n",
    "            nn.Linear(512, num_classes)\n",
    "        )\n",
    "\n",
    "    def forward(self, x):\n",
    "        x = self.conv_block(x)\n",
    "        x = x.view(x.size(0), -1)\n",
    "        x = self.fc_block(x)\n",
    "        return x\n",
    "        \n",
    "    def fit(self, train_dataloader, optimizer, criterion, epochs, device='cpu', val_dataloader=None):\n",
    "        # Initialize history\n",
    "        history = {'train': {'loss': [], 'acc': []}}\n",
    "        if val_dataloader:\n",
    "            history['val'] = {'loss': [], 'acc': [], 'prec': [], 'rec': [], 'f1': []}\n",
    "\n",
    "        self.to(device)\n",
    "        for epoch in range(epochs):\n",
    "            # Training phase\n",
    "            self.train()\n",
    "            train_loss = 0.0\n",
    "            total_samples = 0\n",
    "\n",
    "            train_predictions = []\n",
    "            train_targets = []\n",
    "\n",
    "            with tqdm(train_dataloader, desc=f\"Epoch {epoch+1}/{epochs} - Training\", leave=False) as t:\n",
    "                for inputs, labels in t:\n",
    "                    inputs, labels = inputs.to(device).float(), labels.to(device)\n",
    "                    optimizer.zero_grad()\n",
    "                    logits = self(inputs)\n",
    "                    loss = criterion(logits, labels)\n",
    "                    loss.backward()\n",
    "                    optimizer.step()\n",
    "\n",
    "                    train_loss += loss.item() * inputs.size(0)\n",
    "                    total_samples += inputs.size(0)\n",
    "\n",
    "                    train_predictions.extend(torch.argmax(logits, dim=1).cpu().numpy())\n",
    "                    train_targets.extend(labels.cpu().numpy())\n",
    "\n",
    "            train_loss /= total_samples\n",
    "            accuracy = accuracy_score(train_targets, train_predictions)\n",
    "            history['train']['loss'].append(train_loss)\n",
    "            history['train']['acc'].append(accuracy)\n",
    "            cm = confusion_matrix(train_targets, train_predictions)\n",
    "\n",
    "            tqdm.write(f\"Epoch [{epoch+1}/{epochs}], Train - {', '.join([f'{key.capitalize()}: {value[-1]:.4f}' for key, value in history['train'].items()])}\")\n",
    "\n",
    "            # Validation phase\n",
    "            if val_dataloader:\n",
    "                result = self.evaluate(val_dataloader, criterion, device)\n",
    "                history['val']['loss'].append(result['loss'])\n",
    "                history['val']['acc'].append(result['acc'])\n",
    "                history['val']['prec'].append(result['prec'])\n",
    "                history['val']['rec'].append(result['rec'])\n",
    "                history['val']['f1'].append(result['f1'])\n",
    "\n",
    "\n",
    "        return history\n",
    "\n",
    "\n",
    "    def evaluate(self, dataloader, criterion, device='cpu'):\n",
    "        self.eval()\n",
    "        eval_loss = 0.0\n",
    "        total_samples = 0\n",
    "\n",
    "        eval_predictions = []\n",
    "        eval_targets = []\n",
    "\n",
    "        with torch.no_grad():\n",
    "            with tqdm(dataloader, desc=\"Evaluating\", leave=False) as t:\n",
    "                for inputs, labels in t:\n",
    "                    inputs, labels = inputs.to(device).float(), labels.to(device)\n",
    "                    logits = self(inputs)\n",
    "                    loss = criterion(logits, labels) \n",
    "                    eval_loss += loss.item() * inputs.size(0)\n",
    "                    total_samples += inputs.size(0)\n",
    "\n",
    "                    eval_predictions.extend(torch.argmax(logits, dim=1).cpu().numpy())\n",
    "                    eval_targets.extend(labels.cpu().numpy())\n",
    "\n",
    "        eval_loss /= total_samples\n",
    "        accuracy = accuracy_score(eval_targets, eval_predictions)\n",
    "        precision = precision_score(eval_targets, eval_predictions, average='macro', zero_division=1)\n",
    "        recall = recall_score(eval_targets, eval_predictions, average='macro', zero_division=1)\n",
    "        f1 = f1_score(eval_targets, eval_predictions, average='macro', zero_division=1)\n",
    "        cm = confusion_matrix(eval_targets, eval_predictions)\n",
    "\n",
    "        result = {\"loss\": eval_loss, \"acc\": accuracy, \"prec\": precision, \"rec\": recall, \"f1\": f1, \"cm\": cm}\n",
    "        tqdm.write(f\"Evaluation - {', '.join([f'{key.capitalize()}: {value:.4f}' for key, value in result.items() if key != 'cm'])}\")\n",
    "\n",
    "        return result"
   ]
  },
  {
   "cell_type": "markdown",
   "id": "70753abc",
   "metadata": {},
   "source": [
    "# Display model summary"
   ]
  },
  {
   "cell_type": "code",
   "execution_count": 5,
   "id": "0600c2c3",
   "metadata": {},
   "outputs": [
    {
     "name": "stdout",
     "output_type": "stream",
     "text": [
      "==========================================================================================\n",
      "Layer (type:depth-idx)                   Output Shape              Param #\n",
      "==========================================================================================\n",
      "CustomModel                              [5, 9]                    --\n",
      "├─Sequential: 1-1                        [5, 512, 44, 33]          --\n",
      "│    └─ResBlock: 2-1                     [5, 64, 708, 532]         --\n",
      "│    │    └─Conv2d: 3-1                  [5, 64, 708, 532]         1,792\n",
      "│    │    └─BatchNorm2d: 3-2             [5, 64, 708, 532]         128\n",
      "│    │    └─ReLU: 3-3                    [5, 64, 708, 532]         --\n",
      "│    │    └─Conv2d: 3-4                  [5, 64, 708, 532]         36,928\n",
      "│    │    └─BatchNorm2d: 3-5             [5, 64, 708, 532]         128\n",
      "│    │    └─Sequential: 3-6              [5, 64, 708, 532]         384\n",
      "│    │    └─ReLU: 3-7                    [5, 64, 708, 532]         --\n",
      "│    └─MaxPool2d: 2-2                    [5, 64, 354, 266]         --\n",
      "│    └─ResBlock: 2-3                     [5, 128, 354, 266]        --\n",
      "│    │    └─Conv2d: 3-8                  [5, 128, 354, 266]        73,856\n",
      "│    │    └─BatchNorm2d: 3-9             [5, 128, 354, 266]        256\n",
      "│    │    └─ReLU: 3-10                   [5, 128, 354, 266]        --\n",
      "│    │    └─Conv2d: 3-11                 [5, 128, 354, 266]        147,584\n",
      "│    │    └─BatchNorm2d: 3-12            [5, 128, 354, 266]        256\n",
      "│    │    └─Sequential: 3-13             [5, 128, 354, 266]        8,576\n",
      "│    │    └─ReLU: 3-14                   [5, 128, 354, 266]        --\n",
      "│    └─MaxPool2d: 2-4                    [5, 128, 177, 133]        --\n",
      "│    └─ResBlock: 2-5                     [5, 256, 177, 133]        --\n",
      "│    │    └─Conv2d: 3-15                 [5, 256, 177, 133]        295,168\n",
      "│    │    └─BatchNorm2d: 3-16            [5, 256, 177, 133]        512\n",
      "│    │    └─ReLU: 3-17                   [5, 256, 177, 133]        --\n",
      "│    │    └─Conv2d: 3-18                 [5, 256, 177, 133]        590,080\n",
      "│    │    └─BatchNorm2d: 3-19            [5, 256, 177, 133]        512\n",
      "│    │    └─Sequential: 3-20             [5, 256, 177, 133]        33,536\n",
      "│    │    └─ReLU: 3-21                   [5, 256, 177, 133]        --\n",
      "│    └─MaxPool2d: 2-6                    [5, 256, 88, 66]          --\n",
      "│    └─ResBlock: 2-7                     [5, 512, 88, 66]          --\n",
      "│    │    └─Conv2d: 3-22                 [5, 512, 88, 66]          1,180,160\n",
      "│    │    └─BatchNorm2d: 3-23            [5, 512, 88, 66]          1,024\n",
      "│    │    └─ReLU: 3-24                   [5, 512, 88, 66]          --\n",
      "│    │    └─Conv2d: 3-25                 [5, 512, 88, 66]          2,359,808\n",
      "│    │    └─BatchNorm2d: 3-26            [5, 512, 88, 66]          1,024\n",
      "│    │    └─Sequential: 3-27             [5, 512, 88, 66]          132,608\n",
      "│    │    └─ReLU: 3-28                   [5, 512, 88, 66]          --\n",
      "│    └─MaxPool2d: 2-8                    [5, 512, 44, 33]          --\n",
      "├─Sequential: 1-2                        [5, 9]                    --\n",
      "│    └─Linear: 2-9                       [5, 512]                  380,633,600\n",
      "│    └─ReLU: 2-10                        [5, 512]                  --\n",
      "│    └─BatchNorm1d: 2-11                 [5, 512]                  1,024\n",
      "│    └─Dropout: 2-12                     [5, 512]                  --\n",
      "│    └─Linear: 2-13                      [5, 9]                    4,617\n",
      "==========================================================================================\n",
      "Total params: 385,503,561\n",
      "Trainable params: 385,503,561\n",
      "Non-trainable params: 0\n",
      "Total mult-adds (G): 398.19\n",
      "==========================================================================================\n",
      "Input size (MB): 22.60\n",
      "Forward/backward pass size (MB): 10838.24\n",
      "Params size (MB): 1542.01\n",
      "Estimated Total Size (MB): 12402.86\n",
      "==========================================================================================\n"
     ]
    }
   ],
   "source": [
    "from torchinfo import summary\n",
    "device = torch.device(\"cuda\" if torch.cuda.is_available() else \"cpu\")\n",
    "input_shape = next(iter(train_dataloader))[0].shape\n",
    "model = CustomModel(input_shape, num_classes).to(device)\n",
    "print(summary(model, input_size=input_shape,device=device))"
   ]
  },
  {
   "cell_type": "markdown",
   "id": "976997c9",
   "metadata": {},
   "source": [
    "# Train model"
   ]
  },
  {
   "cell_type": "code",
   "execution_count": 6,
   "id": "2bef20ac",
   "metadata": {},
   "outputs": [
    {
     "name": "stderr",
     "output_type": "stream",
     "text": [
      "                                                                      \r"
     ]
    },
    {
     "name": "stdout",
     "output_type": "stream",
     "text": [
      "Epoch [1/10], Train - Loss: 1.6152, Acc: 0.4416\n"
     ]
    },
    {
     "name": "stderr",
     "output_type": "stream",
     "text": [
      "                                                           \r"
     ]
    },
    {
     "name": "stdout",
     "output_type": "stream",
     "text": [
      "Evaluation - Loss: 1.1865, Acc: 0.5942, Prec: 0.6070, Rec: 0.6111, F1: 0.5798\n"
     ]
    },
    {
     "name": "stderr",
     "output_type": "stream",
     "text": [
      "                                                                      \r"
     ]
    },
    {
     "name": "stdout",
     "output_type": "stream",
     "text": [
      "Epoch [2/10], Train - Loss: 1.0220, Acc: 0.6788\n"
     ]
    },
    {
     "name": "stderr",
     "output_type": "stream",
     "text": [
      "                                                           \r"
     ]
    },
    {
     "name": "stdout",
     "output_type": "stream",
     "text": [
      "Evaluation - Loss: 0.7371, Acc: 0.7391, Prec: 0.8025, Rec: 0.7500, F1: 0.7457\n"
     ]
    },
    {
     "name": "stderr",
     "output_type": "stream",
     "text": [
      "                                                                      \r"
     ]
    },
    {
     "name": "stdout",
     "output_type": "stream",
     "text": [
      "Epoch [3/10], Train - Loss: 0.6838, Acc: 0.7883\n"
     ]
    },
    {
     "name": "stderr",
     "output_type": "stream",
     "text": [
      "                                                           \r"
     ]
    },
    {
     "name": "stdout",
     "output_type": "stream",
     "text": [
      "Evaluation - Loss: 1.9651, Acc: 0.8116, Prec: 0.8280, Rec: 0.8194, F1: 0.8092\n"
     ]
    },
    {
     "name": "stderr",
     "output_type": "stream",
     "text": [
      "                                                                      \r"
     ]
    },
    {
     "name": "stdout",
     "output_type": "stream",
     "text": [
      "Epoch [4/10], Train - Loss: 0.5033, Acc: 0.8723\n"
     ]
    },
    {
     "name": "stderr",
     "output_type": "stream",
     "text": [
      "                                                           \r"
     ]
    },
    {
     "name": "stdout",
     "output_type": "stream",
     "text": [
      "Evaluation - Loss: 0.4608, Acc: 0.8551, Prec: 0.8772, Rec: 0.8611, F1: 0.8507\n"
     ]
    },
    {
     "name": "stderr",
     "output_type": "stream",
     "text": [
      "                                                                      \r"
     ]
    },
    {
     "name": "stdout",
     "output_type": "stream",
     "text": [
      "Epoch [5/10], Train - Loss: 0.3000, Acc: 0.9307\n"
     ]
    },
    {
     "name": "stderr",
     "output_type": "stream",
     "text": [
      "                                                           \r"
     ]
    },
    {
     "name": "stdout",
     "output_type": "stream",
     "text": [
      "Evaluation - Loss: 0.4619, Acc: 0.8406, Prec: 0.8582, Rec: 0.8472, F1: 0.8363\n"
     ]
    },
    {
     "name": "stderr",
     "output_type": "stream",
     "text": [
      "                                                                      \r"
     ]
    },
    {
     "name": "stdout",
     "output_type": "stream",
     "text": [
      "Epoch [6/10], Train - Loss: 0.2338, Acc: 0.9453\n"
     ]
    },
    {
     "name": "stderr",
     "output_type": "stream",
     "text": [
      "                                                           \r"
     ]
    },
    {
     "name": "stdout",
     "output_type": "stream",
     "text": [
      "Evaluation - Loss: 0.3925, Acc: 0.8696, Prec: 0.8877, Rec: 0.8750, F1: 0.8723\n"
     ]
    },
    {
     "name": "stderr",
     "output_type": "stream",
     "text": [
      "                                                                      \r"
     ]
    },
    {
     "name": "stdout",
     "output_type": "stream",
     "text": [
      "Epoch [7/10], Train - Loss: 0.1955, Acc: 0.9635\n"
     ]
    },
    {
     "name": "stderr",
     "output_type": "stream",
     "text": [
      "                                                           \r"
     ]
    },
    {
     "name": "stdout",
     "output_type": "stream",
     "text": [
      "Evaluation - Loss: 0.3531, Acc: 0.8696, Prec: 0.8817, Rec: 0.8750, F1: 0.8658\n"
     ]
    },
    {
     "name": "stderr",
     "output_type": "stream",
     "text": [
      "                                                                      \r"
     ]
    },
    {
     "name": "stdout",
     "output_type": "stream",
     "text": [
      "Epoch [8/10], Train - Loss: 0.1899, Acc: 0.9635\n"
     ]
    },
    {
     "name": "stderr",
     "output_type": "stream",
     "text": [
      "                                                           \r"
     ]
    },
    {
     "name": "stdout",
     "output_type": "stream",
     "text": [
      "Evaluation - Loss: 0.6879, Acc: 0.8261, Prec: 0.8745, Rec: 0.8333, F1: 0.8225\n"
     ]
    },
    {
     "name": "stderr",
     "output_type": "stream",
     "text": [
      "                                                                      \r"
     ]
    },
    {
     "name": "stdout",
     "output_type": "stream",
     "text": [
      "Epoch [9/10], Train - Loss: 0.2101, Acc: 0.9380\n"
     ]
    },
    {
     "name": "stderr",
     "output_type": "stream",
     "text": [
      "                                                           \r"
     ]
    },
    {
     "name": "stdout",
     "output_type": "stream",
     "text": [
      "Evaluation - Loss: 0.3396, Acc: 0.8841, Prec: 0.8880, Rec: 0.8889, F1: 0.8811\n"
     ]
    },
    {
     "name": "stderr",
     "output_type": "stream",
     "text": [
      "                                                                       \r"
     ]
    },
    {
     "name": "stdout",
     "output_type": "stream",
     "text": [
      "Epoch [10/10], Train - Loss: 0.1134, Acc: 0.9854\n"
     ]
    },
    {
     "name": "stderr",
     "output_type": "stream",
     "text": [
      "                                                           "
     ]
    },
    {
     "name": "stdout",
     "output_type": "stream",
     "text": [
      "Evaluation - Loss: 0.3397, Acc: 0.9275, Prec: 0.9310, Rec: 0.9306, F1: 0.9266\n"
     ]
    },
    {
     "name": "stderr",
     "output_type": "stream",
     "text": [
      "\r"
     ]
    }
   ],
   "source": [
    "# Get input shape\n",
    "input_shape = next(iter(train_dataloader))[0].shape\n",
    "\n",
    "# Get device\n",
    "device = torch.device(\"cuda\" if torch.cuda.is_available() else \"cpu\")\n",
    "\n",
    "model = CustomModel(input_shape, num_classes).to(device)\n",
    "\n",
    "# Define optimizer and criteria\n",
    "optimizer = Adam(model.parameters())\n",
    "criterion = nn.CrossEntropyLoss()\n",
    "\n",
    "\n",
    "# Train model\n",
    "history = model.fit(train_dataloader, optimizer, criterion, epochs=10, device=device, val_dataloader=val_dataloader)"
   ]
  },
  {
   "cell_type": "markdown",
   "id": "f7a9b8ba",
   "metadata": {},
   "source": [
    "# Plot train and validation loss"
   ]
  },
  {
   "cell_type": "code",
   "execution_count": 7,
   "id": "75246ac8",
   "metadata": {},
   "outputs": [
    {
     "data": {
      "image/png": "[encoded data removed]",
      "text/plain": [
       "<Figure size 640x480 with 1 Axes>"
      ]
     },
     "metadata": {},
     "output_type": "display_data"
    }
   ],
   "source": [
    "plt.figure()\n",
    "plt.plot(history['train']['loss'], label='Training Loss')\n",
    "plt.plot(history['val']['loss'], label='Validation Loss')\n",
    "plt.title(\"Train and Validation Loss\")\n",
    "plt.xlabel(\"Epochs\")\n",
    "plt.ylabel(\"Value\")\n",
    "plt.legend()\n",
    "plt.show()"
   ]
  },
  {
   "cell_type": "markdown",
   "id": "0f04099c",
   "metadata": {},
   "source": [
    "# Plot train and validation accuracy"
   ]
  },
  {
   "cell_type": "code",
   "execution_count": 8,
   "id": "cb07b668",
   "metadata": {},
   "outputs": [
    {
     "data": {
      "image/png": "[encoded data removed]",
      "text/plain": [
       "<Figure size 640x480 with 1 Axes>"
      ]
     },
     "metadata": {},
     "output_type": "display_data"
    }
   ],
   "source": [
    "plt.figure()\n",
    "plt.plot(history['train']['acc'], label='Training Accuracy')\n",
    "plt.plot(history['val']['acc'], label='Validation Accuracy')\n",
    "plt.title(\"Train and Validation Accuracy\")\n",
    "plt.xlabel(\"Epochs\")\n",
    "plt.ylabel(\"Value\")\n",
    "plt.legend()\n",
    "plt.show()"
   ]
  },
  {
   "cell_type": "markdown",
   "id": "d4e93f13",
   "metadata": {},
   "source": [
    "# Test model"
   ]
  },
  {
   "cell_type": "code",
   "execution_count": 9,
   "id": "c8ab886b",
   "metadata": {},
   "outputs": [
    {
     "name": "stderr",
     "output_type": "stream",
     "text": [
      "                                                           "
     ]
    },
    {
     "name": "stdout",
     "output_type": "stream",
     "text": [
      "Evaluation - Loss: 0.5795, Acc: 0.7907, Prec: 0.8223, Rec: 0.8000, F1: 0.7886\n"
     ]
    },
    {
     "name": "stderr",
     "output_type": "stream",
     "text": [
      "\r"
     ]
    }
   ],
   "source": [
    "result = model.evaluate(test_dataloader, criterion, device=device)"
   ]
  },
  {
   "cell_type": "markdown",
   "id": "115166c1",
   "metadata": {},
   "source": [
    "# Plot confusion matrix"
   ]
  },
  {
   "cell_type": "code",
   "execution_count": 10,
   "id": "52eaa7fe",
   "metadata": {},
   "outputs": [
    {
     "data": {
      "image/png": "[encoded data removed]",
      "text/plain": [
       "<Figure size 640x480 with 2 Axes>"
      ]
     },
     "metadata": {},
     "output_type": "display_data"
    }
   ],
   "source": [
    "disp = ConfusionMatrixDisplay(confusion_matrix=result['cm'])\n",
    "disp.plot()\n",
    "plt.show()"
   ]
  }
 ],
 "metadata": {
  "kernelspec": {
   "display_name": "Python 3 (ipykernel)",
   "language": "python",
   "name": "python3"
  },
  "language_info": {
   "codemirror_mode": {
    "name": "ipython",
    "version": 3
   },
   "file_extension": ".py",
   "mimetype": "text/x-python",
   "name": "python",
   "nbconvert_exporter": "python",
   "pygments_lexer": "ipython3",
   "version": "3.10.12"
  }
 },
 "nbformat": 4,
 "nbformat_minor": 5
}
